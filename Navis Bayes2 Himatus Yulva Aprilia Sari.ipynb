{
 "cells": [
  {
   "cell_type": "code",
   "execution_count": 1,
   "metadata": {},
   "outputs": [],
   "source": [
    "import numpy as np\n",
    "import matplotlib.pyplot as plt\n",
    "import pandas as pd"
   ]
  },
  {
   "cell_type": "code",
   "execution_count": 2,
   "metadata": {},
   "outputs": [],
   "source": [
    "data = pd.read_excel('shooping_demo.xls')"
   ]
  },
  {
   "cell_type": "code",
   "execution_count": 3,
   "metadata": {},
   "outputs": [
    {
     "data": {
      "text/html": [
       "<div>\n",
       "<style scoped>\n",
       "    .dataframe tbody tr th:only-of-type {\n",
       "        vertical-align: middle;\n",
       "    }\n",
       "\n",
       "    .dataframe tbody tr th {\n",
       "        vertical-align: top;\n",
       "    }\n",
       "\n",
       "    .dataframe thead th {\n",
       "        text-align: right;\n",
       "    }\n",
       "</style>\n",
       "<table border=\"1\" class=\"dataframe\">\n",
       "  <thead>\n",
       "    <tr style=\"text-align: right;\">\n",
       "      <th></th>\n",
       "      <th>Day</th>\n",
       "      <th>Discount</th>\n",
       "      <th>Free Delivery</th>\n",
       "      <th>Buy</th>\n",
       "    </tr>\n",
       "  </thead>\n",
       "  <tbody>\n",
       "    <tr>\n",
       "      <th>0</th>\n",
       "      <td>Weekday</td>\n",
       "      <td>Yes</td>\n",
       "      <td>Yes</td>\n",
       "      <td>Yes</td>\n",
       "    </tr>\n",
       "    <tr>\n",
       "      <th>1</th>\n",
       "      <td>Weekday</td>\n",
       "      <td>Yes</td>\n",
       "      <td>Yes</td>\n",
       "      <td>Yes</td>\n",
       "    </tr>\n",
       "    <tr>\n",
       "      <th>2</th>\n",
       "      <td>Weekend</td>\n",
       "      <td>No</td>\n",
       "      <td>No</td>\n",
       "      <td>No</td>\n",
       "    </tr>\n",
       "    <tr>\n",
       "      <th>3</th>\n",
       "      <td>Holiday</td>\n",
       "      <td>Yes</td>\n",
       "      <td>Yes</td>\n",
       "      <td>Yes</td>\n",
       "    </tr>\n",
       "    <tr>\n",
       "      <th>4</th>\n",
       "      <td>Weekday</td>\n",
       "      <td>Yes</td>\n",
       "      <td>Yes</td>\n",
       "      <td>Yes</td>\n",
       "    </tr>\n",
       "  </tbody>\n",
       "</table>\n",
       "</div>"
      ],
      "text/plain": [
       "       Day Discount Free Delivery  Buy\n",
       "0  Weekday      Yes           Yes  Yes\n",
       "1  Weekday      Yes           Yes  Yes\n",
       "2  Weekend       No            No   No\n",
       "3  Holiday      Yes           Yes  Yes\n",
       "4  Weekday      Yes           Yes  Yes"
      ]
     },
     "execution_count": 3,
     "metadata": {},
     "output_type": "execute_result"
    }
   ],
   "source": [
    "data.head()"
   ]
  },
  {
   "cell_type": "code",
   "execution_count": 8,
   "metadata": {},
   "outputs": [
    {
     "data": {
      "text/plain": [
       "(50, 4)"
      ]
     },
     "execution_count": 8,
     "metadata": {},
     "output_type": "execute_result"
    }
   ],
   "source": [
    "data.shape"
   ]
  },
  {
   "cell_type": "code",
   "execution_count": 9,
   "metadata": {},
   "outputs": [
    {
     "data": {
      "text/plain": [
       "Yes    41\n",
       "No      9\n",
       "Name: Buy, dtype: int64"
      ]
     },
     "execution_count": 9,
     "metadata": {},
     "output_type": "execute_result"
    }
   ],
   "source": [
    "data['Buy'].value_counts()"
   ]
  },
  {
   "cell_type": "code",
   "execution_count": 10,
   "metadata": {},
   "outputs": [],
   "source": [
    "PYES= 41/50\n",
    "PNO=9/50"
   ]
  },
  {
   "cell_type": "code",
   "execution_count": 11,
   "metadata": {},
   "outputs": [
    {
     "name": "stdout",
     "output_type": "stream",
     "text": [
      "0.82\n"
     ]
    }
   ],
   "source": [
    "print (PYES)"
   ]
  },
  {
   "cell_type": "code",
   "execution_count": 12,
   "metadata": {},
   "outputs": [
    {
     "name": "stdout",
     "output_type": "stream",
     "text": [
      "0.18\n"
     ]
    }
   ],
   "source": [
    "print (PNO)"
   ]
  },
  {
   "cell_type": "code",
   "execution_count": 13,
   "metadata": {},
   "outputs": [
    {
     "data": {
      "text/html": [
       "<div>\n",
       "<style scoped>\n",
       "    .dataframe tbody tr th:only-of-type {\n",
       "        vertical-align: middle;\n",
       "    }\n",
       "\n",
       "    .dataframe tbody tr th {\n",
       "        vertical-align: top;\n",
       "    }\n",
       "\n",
       "    .dataframe thead th {\n",
       "        text-align: right;\n",
       "    }\n",
       "</style>\n",
       "<table border=\"1\" class=\"dataframe\">\n",
       "  <thead>\n",
       "    <tr style=\"text-align: right;\">\n",
       "      <th>Buy</th>\n",
       "      <th>No</th>\n",
       "      <th>Yes</th>\n",
       "    </tr>\n",
       "    <tr>\n",
       "      <th>Day</th>\n",
       "      <th></th>\n",
       "      <th></th>\n",
       "    </tr>\n",
       "  </thead>\n",
       "  <tbody>\n",
       "    <tr>\n",
       "      <th>Holiday</th>\n",
       "      <td>6</td>\n",
       "      <td>18</td>\n",
       "    </tr>\n",
       "    <tr>\n",
       "      <th>Weekday</th>\n",
       "      <td>2</td>\n",
       "      <td>9</td>\n",
       "    </tr>\n",
       "    <tr>\n",
       "      <th>Weekend</th>\n",
       "      <td>1</td>\n",
       "      <td>14</td>\n",
       "    </tr>\n",
       "  </tbody>\n",
       "</table>\n",
       "</div>"
      ],
      "text/plain": [
       "Buy      No  Yes\n",
       "Day             \n",
       "Holiday   6   18\n",
       "Weekday   2    9\n",
       "Weekend   1   14"
      ]
     },
     "execution_count": 13,
     "metadata": {},
     "output_type": "execute_result"
    }
   ],
   "source": [
    "pd.crosstab (data['Day'], data['Buy'])"
   ]
  },
  {
   "cell_type": "code",
   "execution_count": 16,
   "metadata": {},
   "outputs": [
    {
     "name": "stdout",
     "output_type": "stream",
     "text": [
      "0.21951219512195122\n"
     ]
    }
   ],
   "source": [
    "PHOLIDAYNO=6/12\n",
    "PWEEKDAYNO=2/12\n",
    "PWEEKENDNO=1/12\n",
    "\n",
    "PHOLIDAYYES=18/41\n",
    "PWEEKDAYYES=9/41\n",
    "PWEEKENDYES=14/41\n",
    "\n",
    "PHOLIDAY=22/50\n",
    "PWEEKDAY=22/50\n",
    "PWEEKEND=16/50\n",
    "\n",
    "print (PWEEKDAYYES)"
   ]
  },
  {
   "cell_type": "code",
   "execution_count": 17,
   "metadata": {},
   "outputs": [
    {
     "name": "stdout",
     "output_type": "stream",
     "text": [
      "0.34146341463414637\n"
     ]
    }
   ],
   "source": [
    "PHOLIDAYNO=6/12\n",
    "PWEEKDAYNO=2/12\n",
    "PWEEKENDNO=1/12\n",
    "\n",
    "PHOLIDAYYES=18/41\n",
    "PWEEKDAYYES=9/41\n",
    "PWEEKENDYES=14/41\n",
    "\n",
    "PHOLIDAY=22/50\n",
    "PWEEKDAY=22/50\n",
    "PWEEKEND=16/50\n",
    "\n",
    "print (PWEEKENDYES)"
   ]
  },
  {
   "cell_type": "code",
   "execution_count": 18,
   "metadata": {},
   "outputs": [],
   "source": [
    "#P(A|B) ?\n",
    "#P  (A) = PWEEKDAY\n",
    "#P  (B) = NO BUY\n",
    "#P (A|B) =P WEEKDAY | NO BUY"
   ]
  },
  {
   "cell_type": "code",
   "execution_count": 19,
   "metadata": {},
   "outputs": [
    {
     "name": "stdout",
     "output_type": "stream",
     "text": [
      "0.06818181818181818\n"
     ]
    }
   ],
   "source": [
    "PNOWEEKDAY =(PWEEKDAYNO*PNO)/PWEEKDAY\n",
    "print(PNOWEEKDAY)"
   ]
  },
  {
   "cell_type": "code",
   "execution_count": 20,
   "metadata": {},
   "outputs": [
    {
     "name": "stdout",
     "output_type": "stream",
     "text": [
      "0.40909090909090906\n"
     ]
    }
   ],
   "source": [
    "PYESWEEKDAY =(PWEEKDAYYES*PYES)/PWEEKDAY\n",
    "print(PYESWEEKDAY)"
   ]
  },
  {
   "cell_type": "code",
   "execution_count": 21,
   "metadata": {},
   "outputs": [
    {
     "name": "stdout",
     "output_type": "stream",
     "text": [
      "0.06818181818181818\n",
      "0.40909090909090906\n"
     ]
    }
   ],
   "source": [
    "#Probabilitas (BUY | WEEKDAY) > Dibanding dengan Probabilitas (NOBUY | WEEKDAY)\n",
    "print(PNOWEEKDAY)\n",
    "print(PYESWEEKDAY)"
   ]
  },
  {
   "cell_type": "code",
   "execution_count": 22,
   "metadata": {},
   "outputs": [],
   "source": [
    "# Kondisi B Dimana\n",
    "# DAY = HOLIDAY\n",
    "# DISCOUNT = YES\n",
    "# FREE DELIVERY = YES\n",
    "# A =NO BUY\n",
    "# P (A|B) =P (NO BUY|DISCOUNTYES ,FREE DELIVERY YES , PDAYHOLIDAY)"
   ]
  },
  {
   "cell_type": "code",
   "execution_count": 23,
   "metadata": {},
   "outputs": [
    {
     "data": {
      "text/html": [
       "<div>\n",
       "<style scoped>\n",
       "    .dataframe tbody tr th:only-of-type {\n",
       "        vertical-align: middle;\n",
       "    }\n",
       "\n",
       "    .dataframe tbody tr th {\n",
       "        vertical-align: top;\n",
       "    }\n",
       "\n",
       "    .dataframe thead th {\n",
       "        text-align: right;\n",
       "    }\n",
       "</style>\n",
       "<table border=\"1\" class=\"dataframe\">\n",
       "  <thead>\n",
       "    <tr style=\"text-align: right;\">\n",
       "      <th>Buy</th>\n",
       "      <th>No</th>\n",
       "      <th>Yes</th>\n",
       "    </tr>\n",
       "    <tr>\n",
       "      <th>Discount</th>\n",
       "      <th></th>\n",
       "      <th></th>\n",
       "    </tr>\n",
       "  </thead>\n",
       "  <tbody>\n",
       "    <tr>\n",
       "      <th>No</th>\n",
       "      <td>5</td>\n",
       "      <td>12</td>\n",
       "    </tr>\n",
       "    <tr>\n",
       "      <th>Yes</th>\n",
       "      <td>4</td>\n",
       "      <td>29</td>\n",
       "    </tr>\n",
       "  </tbody>\n",
       "</table>\n",
       "</div>"
      ],
      "text/plain": [
       "Buy       No  Yes\n",
       "Discount         \n",
       "No         5   12\n",
       "Yes        4   29"
      ]
     },
     "execution_count": 23,
     "metadata": {},
     "output_type": "execute_result"
    }
   ],
   "source": [
    "pd.crosstab (data['Discount'], data['Buy'])"
   ]
  },
  {
   "cell_type": "code",
   "execution_count": 26,
   "metadata": {},
   "outputs": [],
   "source": [
    "PNODISCOUNTNO = 5/12\n",
    "PYESDISCOUNTNO = 4/12\n",
    "\n",
    "PNODISCOUNTYES = 12/24\n",
    "PYESDISCOUNTYES = 29/24\n",
    "\n",
    "PNODISCOUNT = 15/50\n",
    "PYESDISCOUNT = 30/50"
   ]
  },
  {
   "cell_type": "code",
   "execution_count": 27,
   "metadata": {},
   "outputs": [
    {
     "data": {
      "text/html": [
       "<div>\n",
       "<style scoped>\n",
       "    .dataframe tbody tr th:only-of-type {\n",
       "        vertical-align: middle;\n",
       "    }\n",
       "\n",
       "    .dataframe tbody tr th {\n",
       "        vertical-align: top;\n",
       "    }\n",
       "\n",
       "    .dataframe thead th {\n",
       "        text-align: right;\n",
       "    }\n",
       "</style>\n",
       "<table border=\"1\" class=\"dataframe\">\n",
       "  <thead>\n",
       "    <tr style=\"text-align: right;\">\n",
       "      <th>Buy</th>\n",
       "      <th>No</th>\n",
       "      <th>Yes</th>\n",
       "    </tr>\n",
       "    <tr>\n",
       "      <th>Free Delivery</th>\n",
       "      <th></th>\n",
       "      <th></th>\n",
       "    </tr>\n",
       "  </thead>\n",
       "  <tbody>\n",
       "    <tr>\n",
       "      <th>No</th>\n",
       "      <td>4</td>\n",
       "      <td>10</td>\n",
       "    </tr>\n",
       "    <tr>\n",
       "      <th>Yes</th>\n",
       "      <td>5</td>\n",
       "      <td>31</td>\n",
       "    </tr>\n",
       "  </tbody>\n",
       "</table>\n",
       "</div>"
      ],
      "text/plain": [
       "Buy            No  Yes\n",
       "Free Delivery         \n",
       "No              4   10\n",
       "Yes             5   31"
      ]
     },
     "execution_count": 27,
     "metadata": {},
     "output_type": "execute_result"
    }
   ],
   "source": [
    "pd.crosstab (data['Free Delivery'], data['Buy'])"
   ]
  },
  {
   "cell_type": "code",
   "execution_count": 28,
   "metadata": {},
   "outputs": [],
   "source": [
    "PNODELIVERYNO =4/6\n",
    "PYESDELIVERYNO=5/6\n",
    "\n",
    "PNODELIVERYYES=10/24\n",
    "PYESDELIVERYYES=31/24\n",
    "\n",
    "PNODELIVERY=14/50\n",
    "PYESDELIVERY=40/50"
   ]
  },
  {
   "cell_type": "code",
   "execution_count": 29,
   "metadata": {},
   "outputs": [],
   "source": [
    "# Kondisi B Dimana\n",
    "# DAY = HOLIDAY\n",
    "# DISCOUNT = YES\n",
    "# FREE DELIVERY =YES\n",
    "# P(A) = NOBUY =PNO\n",
    "# P(B) = PYESDISCOUNT, PYESDELIVERY ,PHOLIDAY\n",
    "# P(B|A)1 =(PHOLIDAY|NO BUY) =PHOLIDAYNO\n",
    "# P(B|A)2 =(PYESDISCOUNT|NO BUY) =PYESDISCOUNTNO\n",
    "# P(B|A)3 =(PYESDELIVERY|NO BUY) =PYESDELIVERYNO\n",
    "# P(B)1 =PHOLIDAY\n",
    "# P(B)2 =PYESDISCOUNT\n",
    "# P(B)3 =PYESDELIVERY\n",
    "\n",
    "#Ditanya P(A|B) ?\n",
    "#Rumus\n",
    "# P(A|B) = P(B|A)*P(A)/P(B)\n"
   ]
  },
  {
   "cell_type": "code",
   "execution_count": 30,
   "metadata": {},
   "outputs": [
    {
     "name": "stdout",
     "output_type": "stream",
     "text": [
      "0.11837121212121211\n"
     ]
    }
   ],
   "source": [
    " PNOBUY1 = ((PHOLIDAYNO*PYESDISCOUNTNO*PYESDELIVERYNO)*PNO) / (PHOLIDAY* PYESDISCOUNT*PYESDELIVERY)\n",
    "print(PNOBUY1)"
   ]
  },
  {
   "cell_type": "code",
   "execution_count": 31,
   "metadata": {},
   "outputs": [],
   "source": [
    "# Kondisi B Dimana\n",
    "# DAY = HOLIDAY\n",
    "# DISCOUNT = YES\n",
    "# FREE DELIVERY =YES\n",
    "# P(A) = BUY =PYES\n",
    "# P(B) = PYESDISCOUNT, PYESDELIVERY ,PHOLIDAY\n",
    "# P(B|A)1 =(PHOLIDAY|BUY) =PHOLIDAYYES\n",
    "# P(B|A)2 =(PYESDISCOUNT|BUY) =PYESDISCOUNTYES\n",
    "# P(B|A)3 =(PYESDELIVERY|BUY) =PYESDELIVERYYES\n",
    "# P(B)1 =PHOLIDAY\n",
    "# P(B)2 =PYESDISCOUNT\n",
    "# P(B)3 =PYESDELIVERY\n",
    "\n",
    "#Ditanya P(A|B) ?\n",
    "#Rumus\n",
    "# P(A|B) = P(B|A)*P(A)/P(B)"
   ]
  },
  {
   "cell_type": "code",
   "execution_count": 32,
   "metadata": {},
   "outputs": [
    {
     "name": "stdout",
     "output_type": "stream",
     "text": [
      "2.6603929924242418\n"
     ]
    }
   ],
   "source": [
    "PBUY2 =((PHOLIDAYYES*PYESDISCOUNTYES*PYESDELIVERYYES)*PYES) / (PHOLIDAY* PYESDISCOUNT*PYESDELIVERY)\n",
    "print(PBUY2)"
   ]
  },
  {
   "cell_type": "code",
   "execution_count": 41,
   "metadata": {},
   "outputs": [],
   "source": [
    "# Probablity of No buy = 0.11837121212121211\n",
    "# Probablity of  buy =2.6603929924242418"
   ]
  },
  {
   "cell_type": "code",
   "execution_count": 34,
   "metadata": {},
   "outputs": [
    {
     "name": "stdout",
     "output_type": "stream",
     "text": [
      "2.7787642045454537\n"
     ]
    }
   ],
   "source": [
    "PSum = PNOBUY1 + PBUY2\n",
    "print (PSum)"
   ]
  },
  {
   "cell_type": "code",
   "execution_count": 35,
   "metadata": {},
   "outputs": [
    {
     "name": "stdout",
     "output_type": "stream",
     "text": [
      "95.74014909478169\n"
     ]
    }
   ],
   "source": [
    "\n",
    "\n",
    "\n",
    "PBUY = (PBUY2/PSum)*100\n",
    "print (PBUY)"
   ]
  },
  {
   "cell_type": "code",
   "execution_count": 36,
   "metadata": {},
   "outputs": [
    {
     "name": "stdout",
     "output_type": "stream",
     "text": [
      "4.259850905218318\n"
     ]
    }
   ],
   "source": [
    "PNOBUY1 = (PNOBUY1/PSum)*100\n",
    "print (PNOBUY1)"
   ]
  },
  {
   "cell_type": "code",
   "execution_count": 37,
   "metadata": {},
   "outputs": [],
   "source": [
    "#NOMEER 01 P (Buy | Day = Weekday, Free Delivery = Yes, Discount = Yes)\n",
    "# Kondisi B Dimana\n",
    "# DAY = WEEKDAY\n",
    "# DISCOUNT = YES\n",
    "# FREE DELIVERY =YES\n",
    "# P(A) = BUY =PYES\n",
    "# P(B) = PYESDISCOUNT, PYESDELIVERY ,WEEKDAY\n",
    "# P(B|A)1 =(PWEEKDAY|BUY) =PWEEKDAYYES\n",
    "# P(B|A)2 =(PYESDISCOUNT|BUY) =PYESDISCOUNTYES\n",
    "# P(B|A)3 =(PYESDELIVERY|BUY) =PYESDELIVERYYES\n",
    "# P(B)1 =PWEEKDAY\n",
    "# P(B)2 =PYESDISCOUNT\n",
    "# P(B)3 =PYESDELIVERY\n",
    "\n",
    "#Ditanya P(A|B) ?\n",
    "#Rumus\n",
    "# P(A|B) = P(B|A)*P(A)/P(B)"
   ]
  },
  {
   "cell_type": "code",
   "execution_count": 38,
   "metadata": {},
   "outputs": [
    {
     "name": "stdout",
     "output_type": "stream",
     "text": [
      "1.3301964962121209\n"
     ]
    }
   ],
   "source": [
    "PBUY3 =((PWEEKDAYYES*PYESDISCOUNTYES*PYESDELIVERYYES)*PYES) / (PWEEKDAY* PYESDISCOUNT*PYESDELIVERY)\n",
    "print(PBUY3)"
   ]
  },
  {
   "cell_type": "code",
   "execution_count": 39,
   "metadata": {},
   "outputs": [],
   "source": [
    "#NOMER 03 P (Not Buy | Day = Weekday, Free Delivery = Yes, Discount = Yes)\n",
    "# Kondisi B Dimana\n",
    "# DAY = WEEKDAY\n",
    "# DISCOUNT = YES\n",
    "# FREE DELIVERY =YES\n",
    "# P(A) = NO BUY =PNO\n",
    "# P(B) = PYESDISCOUNT, PYESDELIVERY ,PWEEKDAY\n",
    "# P(B|A)1 =(PWEEKDAY|NO BUY) =PWEEKDAYNO\n",
    "# P(B|A)2 =(PYESDISCOUNT|NO BUY) =PYESDISCOUNTNO\n",
    "# P(B|A)3 =(PYESDELIVERY|NO BUY) =PYESDELIVERYNO\n",
    "# P(B)1 =PWEEKDAY\n",
    "# P(B)2 =PYESDISCOUNT\n",
    "# P(B)3 =PYESDELIVERY\n",
    "\n",
    "#Ditanya P(A|B) ?\n",
    "#Rumus\n",
    "# P(A|B) = P(B|A)*P(A)/P(B)"
   ]
  },
  {
   "cell_type": "code",
   "execution_count": 40,
   "metadata": {},
   "outputs": [
    {
     "name": "stdout",
     "output_type": "stream",
     "text": [
      "0.039457070707070704\n"
     ]
    }
   ],
   "source": [
    "PNOBUY4 = ((PWEEKDAYNO*PYESDISCOUNTNO*PYESDELIVERYNO)*PNO) / (PWEEKDAY* PYESDISCOUNT*PYESDELIVERY)\n",
    "print(PNOBUY4)"
   ]
  },
  {
   "cell_type": "code",
   "execution_count": 42,
   "metadata": {},
   "outputs": [],
   "source": [
    "# Probablity of No buy = 0.039457070707070704\n",
    "# Probablity of  buy =1.3301964962121209"
   ]
  },
  {
   "cell_type": "code",
   "execution_count": 43,
   "metadata": {},
   "outputs": [
    {
     "name": "stdout",
     "output_type": "stream",
     "text": [
      "1.3696535669191916\n"
     ]
    }
   ],
   "source": [
    "PSum = PNOBUY4 + PBUY3\n",
    "print (PSum)"
   ]
  },
  {
   "cell_type": "code",
   "execution_count": 44,
   "metadata": {},
   "outputs": [
    {
     "name": "stdout",
     "output_type": "stream",
     "text": [
      "97.11919337414476\n"
     ]
    }
   ],
   "source": [
    "PBUY3 = (PBUY3/PSum)*100\n",
    "print (PBUY3)"
   ]
  },
  {
   "cell_type": "code",
   "execution_count": 45,
   "metadata": {},
   "outputs": [
    {
     "name": "stdout",
     "output_type": "stream",
     "text": [
      "2.88080662585524\n"
     ]
    }
   ],
   "source": [
    "PNOBUY4 = (PNOBUY4/PSum)*100\n",
    "print (PNOBUY4)"
   ]
  },
  {
   "cell_type": "code",
   "execution_count": 48,
   "metadata": {},
   "outputs": [
    {
     "name": "stdout",
     "output_type": "stream",
     "text": [
      "1.0146103896103893\n"
     ]
    }
   ],
   "source": [
    "#NOMER 04   P (Not Buy | Day = Weekday, Free Delivery = No, Discount = No)\n",
    "# Kondisi B Dimana\n",
    "# DAY = WEEKDAY\n",
    "# DISCOUNT = NO\n",
    "# FREE DELIVERY =NO\n",
    "# P(A) = NO BUY =PNO\n",
    "# P(B) = PNODISCOUNT, PNODELIVERY ,PWEEKDAY\n",
    "# P(B|A)1 =(PHOLIDAY|NO BUY) =PWEEKDAYNO\n",
    "# P(B|A)2 =(PNODISCOUNT|NO BUY) =PNODISCOUNTNO\n",
    "# P(B|A)3 =(PNODELIVERY|NO BUY) =PNODELIVERYNO\n",
    "# P(B)1 =PWEEKDAY\n",
    "# P(B)2 =PNOSDISCOUNT\n",
    "# P(B)3 =PNODELIVERY\n",
    "\n",
    "#Ditanya P(A|B) ?\n",
    "#Rumus\n",
    "# P(A|B) = P(B|A)*P(A)/P(B)BUY5 = ((PWEEKDAYYES*PNODISCOUNTYES*PNODELIVERYYES)*PYES) / (PWEEKDAY* PNODISCOUNT*PNODELIVERY)\n",
    "print(PBUY5)"
   ]
  },
  {
   "cell_type": "code",
   "execution_count": 50,
   "metadata": {},
   "outputs": [
    {
     "name": "stdout",
     "output_type": "stream",
     "text": [
      "1.0146103896103893\n"
     ]
    }
   ],
   "source": [
    " PBUY5 = ((PWEEKDAYYES*PNODISCOUNTYES*PNODELIVERYYES)*PYES) / (PWEEKDAY* PNODISCOUNT*PNODELIVERY)\n",
    "print(PBUY5)"
   ]
  },
  {
   "cell_type": "code",
   "execution_count": 46,
   "metadata": {},
   "outputs": [],
   "source": [
    "#NOMER 02 P (Buy | Day = Weekday, Free Delivery = No, Discount = No)\n",
    "# Kondisi B Dimana\n",
    "# DAY = WEEKDAY\n",
    "# DISCOUNT = NO\n",
    "# FREE DELIVERY =NO\n",
    "# P(A) = BUY =PYES\n",
    "# P(B) = PNODISCOUNTYES, PNODELIVERYYES ,PWEEKDAY\n",
    "# P(B|A)1 =(PWEEKDAY| BUY) =PWEEKDAYYES\n",
    "# P(B|A)2 =(PNODISCOUNT|BUY) =PNODISCOUNTYES\n",
    "# P(B|A)3 =(PNODELIVERY|BUY) =PNODELIVERYYES\n",
    "# P(B)1 =PWEEKDAY\n",
    "# P(B)2 =PNODISCOUNT\n",
    "# P(B)3 =PNODELIVERY\n",
    "\n",
    "#Ditanya P(A|B) ?\n",
    "#Rumus\n",
    "# P(A|B) = P(B|A)*P(A)/P(B)"
   ]
  },
  {
   "cell_type": "code",
   "execution_count": 49,
   "metadata": {},
   "outputs": [
    {
     "name": "stdout",
     "output_type": "stream",
     "text": [
      "0.22546897546897543\n"
     ]
    }
   ],
   "source": [
    "PNOBUY6 = ((PWEEKDAYNO*PNODISCOUNTNO*PNODELIVERYNO)*PNO) / (PWEEKDAY* PNODISCOUNT*PNODELIVERY)\n",
    "print(PNOBUY6)"
   ]
  },
  {
   "cell_type": "code",
   "execution_count": 51,
   "metadata": {},
   "outputs": [],
   "source": [
    "# Probablity of No buy =0.22546897546897543\n",
    "# Probablity of  buy =1.0146103896103893"
   ]
  },
  {
   "cell_type": "code",
   "execution_count": 52,
   "metadata": {},
   "outputs": [
    {
     "name": "stdout",
     "output_type": "stream",
     "text": [
      "1.2400793650793647\n"
     ]
    }
   ],
   "source": [
    "PSum = PNOBUY6 + PBUY5\n",
    "print (PSum)"
   ]
  },
  {
   "cell_type": "code",
   "execution_count": 53,
   "metadata": {},
   "outputs": [
    {
     "name": "stdout",
     "output_type": "stream",
     "text": [
      "81.81818181818183\n"
     ]
    }
   ],
   "source": [
    "PBUY5 = (PBUY5/PSum)*100\n",
    "print (PBUY5)"
   ]
  },
  {
   "cell_type": "code",
   "execution_count": 54,
   "metadata": {},
   "outputs": [
    {
     "name": "stdout",
     "output_type": "stream",
     "text": [
      "18.181818181818183\n"
     ]
    }
   ],
   "source": [
    "PNOBUY6 = (PNOBUY6/PSum)*100\n",
    "print (PNOBUY6)"
   ]
  },
  {
   "cell_type": "code",
   "execution_count": 55,
   "metadata": {},
   "outputs": [],
   "source": [
    "#NOMEER 05 P (Buy | Day = Weekend, Free Delivery = Yes, Discount = Yes)\n",
    "# Kondisi B Dimana\n",
    "# DAY = WEEKEND\n",
    "# DISCOUNT = YES\n",
    "# FREE DELIVERY =YES\n",
    "# P(A) = BUY =PYES\n",
    "# P(B) = PYESDISCOUNT, PYESDELIVERY ,WEEKEND\n",
    "# P(B|A)1 =(PWEEKDAY|BUY) =PWEEKENDYES\n",
    "# P(B|A)2 =(PYESDISCOUNT|BUY) =PYESDISCOUNTYES\n",
    "# P(B|A)3 =(PYESDELIVERY|BUY) =PYESDELIVERYYES\n",
    "# P(B)1 =PWEEKEND\n",
    "# P(B)2 =PYESDISCOUNT\n",
    "# P(B)3 =PYESDELIVERY\n",
    "\n",
    "#Ditanya P(A|B) ?\n",
    "#Rumus\n",
    "# P(A|B) = P(B|A)*P(A)/P(B)"
   ]
  },
  {
   "cell_type": "code",
   "execution_count": 56,
   "metadata": {},
   "outputs": [
    {
     "name": "stdout",
     "output_type": "stream",
     "text": [
      "2.845142505787037\n"
     ]
    }
   ],
   "source": [
    "PBUY7 =((PWEEKENDYES*PYESDISCOUNTYES*PYESDELIVERYYES)*PYES) / (PWEEKEND* PYESDISCOUNT*PYESDELIVERY)\n",
    "print(PBUY7)"
   ]
  },
  {
   "cell_type": "code",
   "execution_count": 57,
   "metadata": {},
   "outputs": [],
   "source": [
    "#NOMER 07 P (Not Buy | Day = Weekend, Free Delivery = Yes, Discount = Yes)\n",
    "# Kondisi B Dimana\n",
    "# DAY = WEEKEND\n",
    "# DISCOUNT = YES\n",
    "# FREE DELIVERY =YES\n",
    "# P(A) = NO BUY =PNO\n",
    "# P(B) = PYESDISCOUNT, PYESDELIVERY ,PWEEKEND\n",
    "# P(B|A)1 =(PWEEKEND|NO BUY) =PWEEKENDNO\n",
    "# P(B|A)2 =(PYESDISCOUNT|NO BUY) =PYESDISCOUNTNO\n",
    "# P(B|A)3 =(PYESDELIVERY|NO BUY) =PYESDELIVERYNO\n",
    "# P(B)1 =PWEEKKEND\n",
    "# P(B)2 =PYESDISCOUNT\n",
    "# P(B)3 =PYESDELIVERY\n",
    "\n",
    "#Ditanya P(A|B) ?\n",
    "#Rumus\n",
    "# P(A|B) = P(B|A)*P(A)/P(B)"
   ]
  },
  {
   "cell_type": "code",
   "execution_count": 58,
   "metadata": {},
   "outputs": [
    {
     "name": "stdout",
     "output_type": "stream",
     "text": [
      "0.02712673611111111\n"
     ]
    }
   ],
   "source": [
    "PNOBUY8 = ((PWEEKENDNO*PYESDISCOUNTNO*PYESDELIVERYNO)*PNO) / (PWEEKEND* PYESDISCOUNT*PYESDELIVERY)\n",
    "print(PNOBUY8)"
   ]
  },
  {
   "cell_type": "code",
   "execution_count": 59,
   "metadata": {},
   "outputs": [],
   "source": [
    "# Probablity of no  buy  =0.02712673611111111\n",
    "# Probablity of  buy  =2.845142505787037"
   ]
  },
  {
   "cell_type": "code",
   "execution_count": 60,
   "metadata": {},
   "outputs": [
    {
     "name": "stdout",
     "output_type": "stream",
     "text": [
      "2.8722692418981484\n"
     ]
    }
   ],
   "source": [
    "PSum = PNOBUY8 + PBUY7\n",
    "print (PSum)"
   ]
  },
  {
   "cell_type": "code",
   "execution_count": 61,
   "metadata": {},
   "outputs": [
    {
     "name": "stdout",
     "output_type": "stream",
     "text": [
      "99.05556430033056\n"
     ]
    }
   ],
   "source": [
    "PBUY7 = (PBUY7/PSum)*100\n",
    "print (PBUY7)"
   ]
  },
  {
   "cell_type": "code",
   "execution_count": 62,
   "metadata": {},
   "outputs": [
    {
     "name": "stdout",
     "output_type": "stream",
     "text": [
      "0.9444356996694473\n"
     ]
    }
   ],
   "source": [
    "PNOBUY8 = (PNOBUY8/PSum)*100\n",
    "print (PNOBUY8)"
   ]
  },
  {
   "cell_type": "code",
   "execution_count": 63,
   "metadata": {},
   "outputs": [],
   "source": [
    "#NOMER 06 P (Buy | Day = Weekend, Free Delivery = No, Discount = No) \n",
    "# Kondisi B Dimana\n",
    "# DAY = WEEKEND\n",
    "# DISCOUNT = NO\n",
    "# FREE DELIVERY =NO\n",
    "# P(A) = BUY =PYES\n",
    "# P(B) = PNODISCOUNTYES, PNODELIVERYYES ,PWEEKEND\n",
    "# P(B|A)1 =(PWEEKEND| BUY) =PWEEKENDYES\n",
    "# P(B|A)2 =(PNODISCOUNT|BUY) =PNODISCOUNTYES\n",
    "# P(B|A)3 =(PNODELIVERY|BUY) =PNODELIVERYYES\n",
    "# P(B)1 =PWEEKEND\n",
    "# P(B)2 =PNODISCOUNT\n",
    "# P(B)3 =PNODELIVERY\n",
    "\n",
    "#Ditanya P(A|B) ?\n",
    "#Rumus\n",
    "# P(A|B) = P(B|A)*P(A)/P(B)"
   ]
  },
  {
   "cell_type": "code",
   "execution_count": 64,
   "metadata": {},
   "outputs": [
    {
     "name": "stdout",
     "output_type": "stream",
     "text": [
      "2.170138888888889\n"
     ]
    }
   ],
   "source": [
    " PBUY9 = ((PWEEKENDYES*PNODISCOUNTYES*PNODELIVERYYES)*PYES) / (PWEEKEND* PNODISCOUNT*PNODELIVERY)\n",
    "print(PBUY9)"
   ]
  },
  {
   "cell_type": "code",
   "execution_count": 65,
   "metadata": {},
   "outputs": [],
   "source": [
    "#NOMER 8 P (Not Buy | Day = Weekend, Free Delivery = No, Discount = No)\n",
    "# Kondisi B Dimana\n",
    "# DAY = WEEKEND\n",
    "# DISCOUNT = NO\n",
    "# FREE DELIVERY =NO\n",
    "# P(A) = NO BUY =PNO\n",
    "# P(B) = PNODISCOUNT, PNODELIVERY ,PWEEK\n",
    "# P(B|A)1 =(PWEEKEND|NO BUY) =PWEEKENDNO\n",
    "# P(B|A)2 =(PNODISCOUNT|NO BUY) =PNODISCOUNTNO\n",
    "# P(B|A)3 =(PNODELIVERY|NO BUY) =PNODELIVERYNO\n",
    "# P(B)1 =PWEEKEND\n",
    "# P(B)2 =PNOSDISCOUNT\n",
    "# P(B)3 =PNODELIVERY\n",
    "\n",
    "#Ditanya P(A|B) ?\n",
    "#Rumus\n",
    "# P(A|B) = P(B|A)*P(A)/P(B)"
   ]
  },
  {
   "cell_type": "code",
   "execution_count": 66,
   "metadata": {},
   "outputs": [
    {
     "name": "stdout",
     "output_type": "stream",
     "text": [
      "0.1550099206349206\n"
     ]
    }
   ],
   "source": [
    " PNOBUY10 = ((PWEEKENDNO*PNODISCOUNTNO*PNODELIVERYNO)*PNO) / (PWEEKEND* PNODISCOUNT*PNODELIVERY)\n",
    "print(PNOBUY10)"
   ]
  },
  {
   "cell_type": "code",
   "execution_count": 67,
   "metadata": {},
   "outputs": [],
   "source": [
    "# Probablity of No buy=0.1550099206349206\n",
    "# Probablity of  buy =2.170138888888889"
   ]
  },
  {
   "cell_type": "code",
   "execution_count": 68,
   "metadata": {},
   "outputs": [
    {
     "name": "stdout",
     "output_type": "stream",
     "text": [
      "2.3251488095238093\n"
     ]
    }
   ],
   "source": [
    "PSum = PNOBUY10 + PBUY9\n",
    "print (PSum)"
   ]
  },
  {
   "cell_type": "code",
   "execution_count": 69,
   "metadata": {},
   "outputs": [
    {
     "name": "stdout",
     "output_type": "stream",
     "text": [
      "93.33333333333333\n"
     ]
    }
   ],
   "source": [
    "PBUY9 = (PBUY9/PSum)*100\n",
    "print (PBUY9)"
   ]
  },
  {
   "cell_type": "code",
   "execution_count": 70,
   "metadata": {},
   "outputs": [
    {
     "name": "stdout",
     "output_type": "stream",
     "text": [
      "6.666666666666667\n"
     ]
    }
   ],
   "source": [
    "PNOBUY10 = (PNOBUY10/PSum)*100\n",
    "print (PNOBUY10)"
   ]
  },
  {
   "cell_type": "code",
   "execution_count": null,
   "metadata": {},
   "outputs": [],
   "source": []
  }
 ],
 "metadata": {
  "kernelspec": {
   "display_name": "Python 3",
   "language": "python",
   "name": "python3"
  },
  "language_info": {
   "codemirror_mode": {
    "name": "ipython",
    "version": 3
   },
   "file_extension": ".py",
   "mimetype": "text/x-python",
   "name": "python",
   "nbconvert_exporter": "python",
   "pygments_lexer": "ipython3",
   "version": "3.7.6"
  }
 },
 "nbformat": 4,
 "nbformat_minor": 4
}
